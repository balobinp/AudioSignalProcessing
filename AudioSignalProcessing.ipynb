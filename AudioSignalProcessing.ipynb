{
 "cells": [
  {
   "cell_type": "markdown",
   "metadata": {},
   "source": [
    "### AudioSignalProcessing\n",
    "- Примеры извлечения фич из аудио сигнала (mfcc и пр.)\n",
    "- Примеры сетей разного типа (CNN, RNN, перцептрон и пр.) для распознования аудио сигнала на тестовых данных\n",
    "- Подготовить модель распознавания ключевых фраз + other"
   ]
  },
  {
   "cell_type": "code",
   "execution_count": 31,
   "metadata": {},
   "outputs": [],
   "source": [
    "from os.path import join, isdir, isfile\n",
    "import os\n",
    "import shutil\n",
    "from tqdm.auto import tqdm\n",
    "import librosa\n",
    "import json\n",
    "import matplotlib.pyplot as plt\n",
    "import numpy as np\n",
    "from scipy.io import wavfile\n",
    "import soundcard as sc\n",
    "import python_speech_features\n",
    "import tensorflow as tf\n",
    "from sklearn.model_selection import train_test_split"
   ]
  },
  {
   "cell_type": "code",
   "execution_count": 122,
   "metadata": {},
   "outputs": [
    {
     "name": "stdout",
     "output_type": "stream",
     "text": [
      "\n",
      "Completed\n"
     ]
    }
   ],
   "source": [
    "# Подготовка данных и сохранение в вайл\n",
    "# Используются записи ключевых слов длительностью 1 секунда,\n",
    "# сложенные в дирректории, названные в соответствии со словами, содержащимися в них.\n",
    "\n",
    "# На выходе получаем следующие данные:\n",
    "# {\n",
    "#     'mapping':['five', 'no', 'yes',...],\n",
    "#     'labels':[0,0,0,... 1,1,1,... 2,2,2,...],\n",
    "#     'MFCCs':[no_of_sample, time_steps, mfcc_koefficient],\n",
    "#     'files':['.\\\\VoiceSamples\\\\YesNoFive10Samples\\\\five\\\\004ae714_nohash_0.wav',...]\n",
    "# }\n",
    "\n",
    "#######################################################################################\n",
    "# Define variables here\n",
    "#######################################################################################\n",
    "\n",
    "downloads = r\".\\VoiceSamples\"\n",
    "\n",
    "input_voice_samples_folders = join(downloads, 'YesNoFive10Samples')\n",
    "# input_voice_samples_folders = join(downloads, 'OnOffUpDownStopOthers250Samples')\n",
    "\n",
    "output_voice_features_json = join(input_voice_samples_folders, \"data.json\")\n",
    "output_trained_model = join(input_voice_samples_folders, \"model.h5\")\n",
    "\n",
    "sample_length = 22050 # 1 sec. of audio\n",
    "\n",
    "#######################################################################################\n",
    "\n",
    "#######################################################################################\n",
    "\n",
    "def preprocess_dataset(dataset_path, json_path, num_mfcc=13, n_fft=2048, hop_length=512):\n",
    "    \"\"\"Extracts MFCCs from music dataset and saves them into a json file.\n",
    "    :param dataset_path (str): Path to dataset\n",
    "    :param json_path (str): Path to json file used to save MFCCs\n",
    "    :param num_mfcc (int): Number of coefficients to extract\n",
    "    :param n_fft (int): Interval we consider to apply FFT. Measured in # of samples\n",
    "    :param hop_length (int): Sliding window for FFT. Measured in # of samples\n",
    "    :return:\n",
    "    \"\"\"\n",
    "    # dictionary where we'll store mapping, labels, MFCCs and filenames\n",
    "    data = {\"mapping\": [], \"labels\": [], \"MFCCs\": [], \"files\": []}\n",
    "    \n",
    "    # loop through all sub-dirs\n",
    "    for i, (dirpath, dirnames, filenames) in enumerate(os.walk(dataset_path)):\n",
    "        # ensure we're at sub-folder level\n",
    "        if dirpath is not dataset_path:\n",
    "            # save label (i.e., sub-folder name) in the mapping\n",
    "            label = dirpath.split(\"\\\\\")[-1]\n",
    "            data[\"mapping\"].append(label)\n",
    "            print(\"\\nProcessing: '{}'\".format(label))\n",
    "            # process all audio files in sub-dir and store MFCCs\n",
    "            for file in tqdm(filenames):\n",
    "                file_path = join(dirpath, file)\n",
    "                # load audio file and slice it to ensure length consistency among different files\n",
    "                signal, sample_rate = librosa.load(file_path)\n",
    "                # drop audio files with less than pre-decided number of samples\n",
    "                if len(signal) >= sample_length:\n",
    "                    # ensure consistency of the length of the signal\n",
    "                    signal = signal[:sample_length]\n",
    "                    # extract MFCCs\n",
    "                    MFCCs = librosa.feature.mfcc(signal, sample_rate, n_mfcc=num_mfcc, n_fft=n_fft, hop_length=hop_length)\n",
    "                    # store data for analysed track\n",
    "                    data[\"MFCCs\"].append(MFCCs.T[..., np.newaxis].tolist())\n",
    "                    data[\"labels\"].append(i-1)\n",
    "                    data[\"files\"].append(file_path)\n",
    "\n",
    "    # save data in json file\n",
    "    with open(json_path, \"w\") as fp:\n",
    "        json.dump(data, fp, indent=4)\n",
    "        \n",
    "def load_data(data_path):\n",
    "    \"\"\"Loads training dataset from json file.\n",
    "    :param data_path (str): Path to json file containing data\n",
    "    :return X (ndarray): Inputs\n",
    "    :return y (ndarray): Targets\n",
    "    \"\"\"\n",
    "    with open(data_path, \"r\") as fp:\n",
    "        data = json.load(fp)\n",
    "    X = np.array(data[\"MFCCs\"])\n",
    "    y = np.array(data[\"labels\"])\n",
    "    mapping = data['mapping']\n",
    "    return X, y, mapping\n",
    "\n",
    "preprocess_dataset(input_voice_samples_folders, output_voice_features_json)\n",
    "\n",
    "print('\\nCompleted')\n",
    "\n",
    "# На основе:\n",
    "# The Sound of AI, Deep Learning (Audio) Application: From Design to Deployment, Preparing the Speech Dataset, https://www.youtube.com/watch?v=VPJ2jazh_KI&list=PL-wATfeyAMNpCRQkKgtOZU_ykXc63oyzp&index=2\n",
    "# GitHub с кодом:\n",
    "# https://github.com/musikalkemist/Deep-Learning-Audio-Application-From-Design-to-Deployment/tree/master/2-%20Preparing%20the%20Dataset"
   ]
  },
  {
   "cell_type": "code",
   "execution_count": 61,
   "metadata": {},
   "outputs": [
    {
     "data": {
      "image/png": "[encoded data removed]",
      "text/plain": [
       "<Figure size 2160x360 with 1 Axes>"
      ]
     },
     "metadata": {
      "needs_background": "light"
     },
     "output_type": "display_data"
    }
   ],
   "source": [
    "# Проверить кол-во аудиосэмплов каждой фразы\n",
    "\n",
    "# Folder names with audio samples\n",
    "labels = [folder for folder in os.listdir(input_voice_samples_folders) \n",
    "          if isdir(join(input_voice_samples_folders, folder))]\n",
    "\n",
    "# Find count of each label and plot bar graph\n",
    "no_of_recordings=[]\n",
    "for label in labels:\n",
    "    waves = [file for file in os.listdir(join(input_voice_samples_folders, label)) if file.endswith('.wav')]\n",
    "    no_of_recordings.append(len(waves))\n",
    "    \n",
    "# Plot\n",
    "plt.figure(figsize=(30,5))\n",
    "index = np.arange(len(labels))\n",
    "plt.bar(index, no_of_recordings)\n",
    "plt.xlabel('Folders', fontsize=12)\n",
    "plt.ylabel('No of recordings', fontsize=12)\n",
    "plt.xticks(index, labels, fontsize=15, rotation=60)\n",
    "plt.title('No. of recordings in the folders')\n",
    "plt.show()"
   ]
  },
  {
   "cell_type": "code",
   "execution_count": 62,
   "metadata": {},
   "outputs": [
    {
     "data": {
      "image/png": "[encoded data removed]",
      "text/plain": [
       "<Figure size 432x288 with 1 Axes>"
      ]
     },
     "metadata": {
      "needs_background": "light"
     },
     "output_type": "display_data"
    }
   ],
   "source": [
    "# Проверить длительность сэмплов (в секундах)\n",
    "\n",
    "duration_of_recordings=[]\n",
    "\n",
    "for label in labels:\n",
    "    waves = [file for file in os.listdir(join(input_voice_samples_folders, label)) if file.endswith('.wav')]\n",
    "    for wav in waves:\n",
    "        sample_rate, samples = wavfile.read(join(input_voice_samples_folders, label, wav))\n",
    "        duration_of_recordings.append(float(len(samples)/sample_rate))  \n",
    "plt.hist(np.array(duration_of_recordings))\n",
    "\n",
    "plt.show()"
   ]
  },
  {
   "cell_type": "markdown",
   "metadata": {},
   "source": [
    "### Извлечение фич из аудио сигнала"
   ]
  },
  {
   "cell_type": "code",
   "execution_count": 13,
   "metadata": {},
   "outputs": [],
   "source": [
    "#######################################################################################\n",
    "# Define variables here\n",
    "#######################################################################################\n",
    "\n",
    "sample_file_path = join(downloads, 'SimpleSamples/bird.wav')\n",
    "\n",
    "#######################################################################################\n",
    "\n",
    "#######################################################################################"
   ]
  },
  {
   "cell_type": "code",
   "execution_count": 39,
   "metadata": {},
   "outputs": [
    {
     "data": {
      "image/png": "[encoded data removed]",
      "text/plain": [
       "<Figure size 1512x504 with 2 Axes>"
      ]
     },
     "metadata": {
      "needs_background": "light"
     },
     "output_type": "display_data"
    },
    {
     "data": {
      "text/plain": [
       "(13, 99)"
      ]
     },
     "execution_count": 39,
     "metadata": {},
     "output_type": "execute_result"
    }
   ],
   "source": [
    "# Извлечение mfcc с использованием python_speech_features\n",
    "\n",
    "signal, rate = librosa.load(sample_file_path, sr=44100)\n",
    "\n",
    "mfcc = python_speech_features.mfcc(signal[:rate], rate, numcep=13, nfilt=13, nfft=1103).T\n",
    "\n",
    "fig, axes = plt.subplots(nrows=1, ncols=2, figsize=(21, 7))\n",
    "axes[0].plot(signal)\n",
    "axes[1].imshow(mfcc, cmap='hot', interpolation='nearest')\n",
    "plt.show()\n",
    "\n",
    "mfcc.shape # (13, 44)"
   ]
  },
  {
   "cell_type": "code",
   "execution_count": 40,
   "metadata": {},
   "outputs": [
    {
     "data": {
      "image/png": "[encoded data removed]",
      "text/plain": [
       "<Figure size 1512x504 with 2 Axes>"
      ]
     },
     "metadata": {
      "needs_background": "light"
     },
     "output_type": "display_data"
    },
    {
     "data": {
      "text/plain": [
       "(26, 99)"
      ]
     },
     "execution_count": 40,
     "metadata": {},
     "output_type": "execute_result"
    }
   ],
   "source": [
    "# Извлечение logfbank с использованием python_speech_features\n",
    "\n",
    "signal, rate = librosa.load(sample_file_path, sr=44100)\n",
    "\n",
    "logfbank = python_speech_features.logfbank(signal[:rate], rate, nfilt=26, nfft=1103).T\n",
    "\n",
    "fig, axes = plt.subplots(nrows=1, ncols=2, figsize=(21, 7))\n",
    "axes[0].plot(signal)\n",
    "axes[1].imshow(logfbank, cmap='hot', interpolation='nearest')\n",
    "plt.show()\n",
    "\n",
    "logfbank.shape # (13, 44)"
   ]
  },
  {
   "cell_type": "code",
   "execution_count": 41,
   "metadata": {},
   "outputs": [
    {
     "data": {
      "image/png": "[encoded data removed]",
      "text/plain": [
       "<Figure size 1512x504 with 2 Axes>"
      ]
     },
     "metadata": {
      "needs_background": "light"
     },
     "output_type": "display_data"
    },
    {
     "data": {
      "text/plain": [
       "(13, 87)"
      ]
     },
     "execution_count": 41,
     "metadata": {},
     "output_type": "execute_result"
    }
   ],
   "source": [
    "# Извлечение mfcc в nm.array из wav файла с использованием librosa (ИСПОЛЬЗОВАТЬ)\n",
    "\n",
    "signal, rate = librosa.load(sample_file_path, sr=44100)\n",
    "\n",
    "# extract MFCCs\n",
    "mfcc = librosa.feature.mfcc(signal[:rate], sr=rate, n_mfcc=13, n_fft=1103, hop_length=512)\n",
    "\n",
    "fig, axes = plt.subplots(nrows=1, ncols=2, figsize=(21, 7))\n",
    "axes[0].plot(signal)\n",
    "axes[1].imshow(mfcc, cmap='hot', interpolation='nearest')\n",
    "plt.show()\n",
    "\n",
    "mfcc.shape"
   ]
  },
  {
   "cell_type": "markdown",
   "metadata": {},
   "source": [
    "### Пример применения CNN"
   ]
  },
  {
   "cell_type": "code",
   "execution_count": 74,
   "metadata": {
    "scrolled": false
   },
   "outputs": [],
   "source": [
    "# Подготовка функций\n",
    "\n",
    "#######################################################################################\n",
    "# Define variables here\n",
    "#######################################################################################\n",
    "\n",
    "downloads = r\".\\VoiceSamples\"\n",
    "\n",
    "# input_voice_samples_folders = join(downloads, 'DummySamples')\n",
    "# input_voice_samples_folders = join(downloads, 'YesNoFive10Samples')\n",
    "input_voice_samples_folders = join(downloads, 'OnOffUpDownStopOthers250Samples')\n",
    "\n",
    "output_voice_features_json = join(input_voice_samples_folders, \"data.json\")\n",
    "output_trained_model = join(input_voice_samples_folders, \"model.h5\")\n",
    "\n",
    "EPOCHS = 100\n",
    "BATCH_SIZE = 32\n",
    "PATIENCE = 5\n",
    "LEARNING_RATE = 0.0001\n",
    "samples_in_class = 250\n",
    "classes = 6\n",
    "\n",
    "#######################################################################################\n",
    "\n",
    "#######################################################################################\n",
    "\n",
    "# def gen_feat(classes=5, samples_in_class=100, dim=2):\n",
    "#     \"\"\"Generates the test dataset as 1 second mfcc audio feature.\n",
    "#     Input\n",
    "#         classes (int): the number of the classes to generate.\n",
    "#         samples_in_class (int): samples in each class.\n",
    "#         dim (int): 2 or 3 dimensions in the output mfcc data.\n",
    "#             2 dimentions for 1D convolutional NN\n",
    "#             3 dimentions for 2D convolutional NN\n",
    "#     return\n",
    "#         X (np.ndarray): like 1 second mfcc audio feature\n",
    "#         y (np.ndarray): classes\n",
    "#     \"\"\"\n",
    "#     X = []\n",
    "#     y = []\n",
    "#     for class_ind in range(classes):\n",
    "#         for _ in range(samples_in_class):\n",
    "#             X.append(np.array([np.random.normal(loc=class_ind, scale=2, size=13) for _ in range(44)]))\n",
    "#             y.append(class_ind)\n",
    "#     if dim == 3:\n",
    "#         return np.array(X)[..., np.newaxis], np.array(y)\n",
    "#     elif dim == 2:\n",
    "#         return np.array(X), np.array(y)\n",
    "\n",
    "def gen_feat(classes=5, samples_in_class=100, dim=2):\n",
    "    \"\"\"Generates the test dataset as 1 second mfcc audio feature.\n",
    "    Input\n",
    "        classes (int): the number of the classes to generate.\n",
    "        samples_in_class (int): samples in each class.\n",
    "        dim (int): 2 or 3 dimensions in the output mfcc data.\n",
    "            2 dimentions for 1D convolutional NN\n",
    "            3 dimentions for 2D convolutional NN\n",
    "    return\n",
    "        X (np.ndarray): like 1 second mfcc audio feature\n",
    "        y (np.ndarray): classes\n",
    "    \"\"\"\n",
    "    X = []\n",
    "    y = []\n",
    "    if dim == 3:\n",
    "        for class_ind in range(classes):\n",
    "            for _ in range(samples_in_class):\n",
    "                X.append(np.array([np.random.normal(loc=class_ind, scale=2, size=13) for _ in range(44)]))\n",
    "                y.append(class_ind)\n",
    "        return np.array(X)[..., np.newaxis], np.array(y)\n",
    "    elif dim == 2:\n",
    "        for class_ind in range(classes):\n",
    "            for _ in range(samples_in_class):\n",
    "                X.append(np.random.normal(loc=class_ind, scale=2, size=8000))\n",
    "                y.append(class_ind)\n",
    "        return np.array(X)[..., np.newaxis], np.array(y)\n",
    "    \n",
    "def prepare_dataset(X, y, test_size=0.2, validation_size=0.2):\n",
    "    \"\"\"Creates train, validation and test sets.\n",
    "    :param data_path (str): Path to json file containing data\n",
    "    :param test_size (flaot): Percentage of dataset used for testing\n",
    "    :param validation_size (float): Percentage of train set used for cross-validation\n",
    "    :return X_train (ndarray): Inputs for the train set\n",
    "    :return y_train (ndarray): Targets for the train set\n",
    "    :return X_validation (ndarray): Inputs for the validation set\n",
    "    :return y_validation (ndarray): Targets for the validation set\n",
    "    :return X_test (ndarray): Inputs for the test set\n",
    "    :return X_test (ndarray): Targets for the test set\n",
    "    \"\"\"\n",
    "    # create train, validation, test split\n",
    "    X_train, X_test, y_train, y_test = train_test_split(X, y, test_size=test_size)\n",
    "    X_train, X_validation, y_train, y_validation = train_test_split(X_train, y_train, test_size=validation_size)\n",
    "    return X_train, y_train, X_validation, y_validation, X_test, y_test\n",
    "\n",
    "def build_model(input_shape, loss=\"sparse_categorical_crossentropy\", learning_rate=0.0001, output_shape=classes):\n",
    "    \"\"\"Build neural network using keras.\n",
    "    :param input_shape (tuple): Shape of array representing a sample train. E.g.: (44, 13, 1)\n",
    "    :param loss (str): Loss function to use\n",
    "    :param learning_rate (float):\n",
    "    :return model: TensorFlow model\n",
    "    \"\"\"\n",
    "    # build network architecture using convolutional layers\n",
    "    model = tf.keras.models.Sequential()\n",
    "    \n",
    "    # 1st conv layer\n",
    "    model.add(tf.keras.layers.Conv2D(64, (3, 3), activation='relu', input_shape=input_shape,\n",
    "                                     kernel_regularizer=tf.keras.regularizers.l2(0.001)))\n",
    "    model.add(tf.keras.layers.BatchNormalization())\n",
    "    model.add(tf.keras.layers.MaxPooling2D((3, 3), strides=(2,2), padding='same'))\n",
    "    \n",
    "    # 2nd conv layer\n",
    "    model.add(tf.keras.layers.Conv2D(32, (3, 3), activation='relu',\n",
    "                                     kernel_regularizer=tf.keras.regularizers.l2(0.001)))\n",
    "    model.add(tf.keras.layers.BatchNormalization())\n",
    "    model.add(tf.keras.layers.MaxPooling2D((3, 3), strides=(2,2), padding='same'))\n",
    "    \n",
    "    # 3rd conv layer\n",
    "    model.add(tf.keras.layers.Conv2D(32, (2, 2), activation='relu',\n",
    "                                     kernel_regularizer=tf.keras.regularizers.l2(0.001)))\n",
    "    model.add(tf.keras.layers.BatchNormalization())\n",
    "    model.add(tf.keras.layers.MaxPooling2D((2, 2), strides=(2,2), padding='same'))\n",
    "    \n",
    "    # flatten output and feed into dense layer\n",
    "    model.add(tf.keras.layers.Flatten())\n",
    "    model.add(tf.keras.layers.Dense(64, activation='relu'))\n",
    "    tf.keras.layers.Dropout(0.5)\n",
    "    \n",
    "    # softmax output layer\n",
    "    model.add(tf.keras.layers.Dense(output_shape, activation='softmax'))\n",
    "    optimiser = tf.optimizers.Adam(learning_rate=learning_rate)\n",
    "    \n",
    "    # compile model\n",
    "    model.compile(optimizer=optimiser,\n",
    "                  loss=loss,\n",
    "                  metrics=[\"accuracy\"])\n",
    "    \n",
    "    # print model parameters on console\n",
    "    model.summary()\n",
    "    \n",
    "    return model\n",
    "\n",
    "def train(model, epochs, batch_size, patience, X_train, y_train, X_validation, y_validation):\n",
    "    \"\"\"Trains model\n",
    "    :param epochs (int): Num training epochs\n",
    "    :param batch_size (int): Samples per batch\n",
    "    :param patience (int): Num epochs to wait before early stop, if there isn't an improvement on accuracy\n",
    "    :param X_train (ndarray): Inputs for the train set\n",
    "    :param y_train (ndarray): Targets for the train set\n",
    "    :param X_validation (ndarray): Inputs for the validation set\n",
    "    :param y_validation (ndarray): Targets for the validation set\n",
    "    :return history: Training history\n",
    "    \"\"\"\n",
    "    earlystop_callback = tf.keras.callbacks.EarlyStopping(monitor=\"accuracy\", min_delta=0.001, patience=patience)\n",
    "    # train model\n",
    "    history = model.fit(X_train, y_train, epochs=epochs, batch_size=batch_size,\n",
    "                        validation_data=(X_validation, y_validation),\n",
    "                        callbacks=[earlystop_callback])\n",
    "    return history\n",
    "\n",
    "def plot_history(history):\n",
    "    \"\"\"Plots accuracy/loss for training/validation set as a function of the epochs\n",
    "    :param history: Training history of model\n",
    "    :return:\n",
    "    \"\"\"\n",
    "    fig, axs = plt.subplots(2)\n",
    "    # create accuracy subplot\n",
    "    axs[0].plot(history.history[\"accuracy\"], label=\"accuracy\")\n",
    "    axs[0].plot(history.history['val_accuracy'], label=\"val_accuracy\")\n",
    "    axs[0].set_ylabel(\"Accuracy\")\n",
    "    axs[0].legend(loc=\"lower right\")\n",
    "    axs[0].set_title(\"Accuracy evaluation\")\n",
    "    # create loss subplot\n",
    "    axs[1].plot(history.history[\"loss\"], label=\"loss\")\n",
    "    axs[1].plot(history.history['val_loss'], label=\"val_loss\")\n",
    "    axs[1].set_xlabel(\"Epoch\")\n",
    "    axs[1].set_ylabel(\"Loss\")\n",
    "    axs[1].legend(loc=\"upper right\")\n",
    "    axs[1].set_title(\"Loss evaluation\")\n",
    "    plt.show()"
   ]
  },
  {
   "cell_type": "markdown",
   "metadata": {},
   "source": [
    "##### Применение CNN на dummy\n",
    "Пример решения задачи классификации с использованием tensorflow CNN. Данные сгенерированы вручную аналогичные данным голоса mfcc."
   ]
  },
  {
   "cell_type": "code",
   "execution_count": 67,
   "metadata": {},
   "outputs": [
    {
     "name": "stdout",
     "output_type": "stream",
     "text": [
      "\n",
      "    X_train:      (800, 44, 13, 1)\n",
      "    X_validation: (200, 44, 13, 1)\n",
      "    X_test:       (250, 44, 13, 1)\n",
      "\n",
      "Model: \"sequential_5\"\n",
      "_________________________________________________________________\n",
      "Layer (type)                 Output Shape              Param #   \n",
      "=================================================================\n",
      "conv2d_15 (Conv2D)           (None, 42, 11, 64)        640       \n",
      "_________________________________________________________________\n",
      "batch_normalization_15 (Batc (None, 42, 11, 64)        256       \n",
      "_________________________________________________________________\n",
      "max_pooling2d_15 (MaxPooling (None, 21, 6, 64)         0         \n",
      "_________________________________________________________________\n",
      "conv2d_16 (Conv2D)           (None, 19, 4, 32)         18464     \n",
      "_________________________________________________________________\n",
      "batch_normalization_16 (Batc (None, 19, 4, 32)         128       \n",
      "_________________________________________________________________\n",
      "max_pooling2d_16 (MaxPooling (None, 10, 2, 32)         0         \n",
      "_________________________________________________________________\n",
      "conv2d_17 (Conv2D)           (None, 9, 1, 32)          4128      \n",
      "_________________________________________________________________\n",
      "batch_normalization_17 (Batc (None, 9, 1, 32)          128       \n",
      "_________________________________________________________________\n",
      "max_pooling2d_17 (MaxPooling (None, 5, 1, 32)          0         \n",
      "_________________________________________________________________\n",
      "flatten_5 (Flatten)          (None, 160)               0         \n",
      "_________________________________________________________________\n",
      "dense_10 (Dense)             (None, 64)                10304     \n",
      "_________________________________________________________________\n",
      "dense_11 (Dense)             (None, 5)                 325       \n",
      "=================================================================\n",
      "Total params: 34,373\n",
      "Trainable params: 34,117\n",
      "Non-trainable params: 256\n",
      "_________________________________________________________________\n",
      "Train on 800 samples, validate on 200 samples\n",
      "Epoch 1/30\n",
      "800/800 [==============================] - 2s 2ms/sample - loss: 1.6365 - accuracy: 0.3663 - val_loss: 1.6269 - val_accuracy: 0.3050\n",
      "Epoch 2/30\n",
      "800/800 [==============================] - 1s 1ms/sample - loss: 1.2240 - accuracy: 0.5325 - val_loss: 1.6072 - val_accuracy: 0.3350\n",
      "Epoch 3/30\n",
      "800/800 [==============================] - 1s 1ms/sample - loss: 0.9982 - accuracy: 0.6600 - val_loss: 1.5965 - val_accuracy: 0.4150\n",
      "Epoch 4/30\n",
      "800/800 [==============================] - 1s 1ms/sample - loss: 0.8671 - accuracy: 0.7025 - val_loss: 1.5780 - val_accuracy: 0.4200\n",
      "Epoch 5/30\n",
      "800/800 [==============================] - 1s 975us/sample - loss: 0.7150 - accuracy: 0.7900 - val_loss: 1.5571 - val_accuracy: 0.4250\n",
      "Epoch 6/30\n",
      "800/800 [==============================] - 1s 994us/sample - loss: 0.6320 - accuracy: 0.8175 - val_loss: 1.5291 - val_accuracy: 0.4200\n",
      "Epoch 7/30\n",
      "800/800 [==============================] - 1s 994us/sample - loss: 0.5287 - accuracy: 0.8800 - val_loss: 1.4672 - val_accuracy: 0.3900\n",
      "Epoch 8/30\n",
      "800/800 [==============================] - 1s 1ms/sample - loss: 0.4019 - accuracy: 0.9550 - val_loss: 1.4723 - val_accuracy: 0.3950\n",
      "Epoch 9/30\n",
      "800/800 [==============================] - 1s 995us/sample - loss: 0.3913 - accuracy: 0.9362 - val_loss: 1.3873 - val_accuracy: 0.4000\n",
      "Epoch 10/30\n",
      "800/800 [==============================] - 1s 1000us/sample - loss: 0.3549 - accuracy: 0.9312 - val_loss: 1.2766 - val_accuracy: 0.4350\n",
      "Epoch 11/30\n",
      "800/800 [==============================] - 1s 1ms/sample - loss: 0.2880 - accuracy: 0.9600 - val_loss: 1.1291 - val_accuracy: 0.4550\n",
      "Epoch 12/30\n",
      "800/800 [==============================] - 1s 1ms/sample - loss: 0.2765 - accuracy: 0.9600 - val_loss: 0.9611 - val_accuracy: 0.5450\n",
      "Epoch 13/30\n",
      "800/800 [==============================] - 1s 1ms/sample - loss: 0.2545 - accuracy: 0.9700 - val_loss: 0.8365 - val_accuracy: 0.5800\n",
      "Epoch 14/30\n",
      "800/800 [==============================] - 1s 1ms/sample - loss: 0.2022 - accuracy: 0.9825 - val_loss: 0.6930 - val_accuracy: 0.6650\n",
      "Epoch 15/30\n",
      "800/800 [==============================] - 1s 1ms/sample - loss: 0.2323 - accuracy: 0.9663 - val_loss: 0.6252 - val_accuracy: 0.7150\n",
      "Epoch 16/30\n",
      "800/800 [==============================] - 1s 1ms/sample - loss: 0.1816 - accuracy: 0.9837 - val_loss: 0.5126 - val_accuracy: 0.7900\n",
      "Epoch 17/30\n",
      "800/800 [==============================] - 1s 997us/sample - loss: 0.1944 - accuracy: 0.9762 - val_loss: 0.4181 - val_accuracy: 0.8650\n",
      "Epoch 18/30\n",
      "800/800 [==============================] - 1s 1ms/sample - loss: 0.1686 - accuracy: 0.9850 - val_loss: 0.3329 - val_accuracy: 0.9300\n",
      "Epoch 19/30\n",
      "800/800 [==============================] - 1s 1ms/sample - loss: 0.1491 - accuracy: 0.9900 - val_loss: 0.2700 - val_accuracy: 0.9550\n",
      "Epoch 20/30\n",
      "800/800 [==============================] - 1s 1ms/sample - loss: 0.1449 - accuracy: 0.9912 - val_loss: 0.2081 - val_accuracy: 0.9750\n",
      "Epoch 21/30\n",
      "800/800 [==============================] - 1s 1ms/sample - loss: 0.1604 - accuracy: 0.9862 - val_loss: 0.1972 - val_accuracy: 0.9850\n",
      "Epoch 22/30\n",
      "800/800 [==============================] - 1s 1ms/sample - loss: 0.1463 - accuracy: 0.9925 - val_loss: 0.1870 - val_accuracy: 0.9800\n",
      "Epoch 23/30\n",
      "800/800 [==============================] - 1s 1ms/sample - loss: 0.1342 - accuracy: 0.9962 - val_loss: 0.1452 - val_accuracy: 0.9850\n",
      "Epoch 24/30\n",
      "800/800 [==============================] - 1s 1ms/sample - loss: 0.1395 - accuracy: 0.9850 - val_loss: 0.1420 - val_accuracy: 0.9850\n",
      "Epoch 25/30\n",
      "800/800 [==============================] - 1s 880us/sample - loss: 0.1277 - accuracy: 0.9925 - val_loss: 0.1329 - val_accuracy: 0.9900\n",
      "Epoch 26/30\n",
      "800/800 [==============================] - 1s 949us/sample - loss: 0.1293 - accuracy: 0.9900 - val_loss: 0.1250 - val_accuracy: 0.9900\n",
      "Epoch 27/30\n",
      "800/800 [==============================] - 1s 1ms/sample - loss: 0.1127 - accuracy: 0.9975 - val_loss: 0.1150 - val_accuracy: 0.9950\n",
      "Epoch 28/30\n",
      "800/800 [==============================] - 1s 911us/sample - loss: 0.1529 - accuracy: 0.9787 - val_loss: 0.1163 - val_accuracy: 0.9950\n",
      "Epoch 29/30\n",
      "800/800 [==============================] - 1s 1ms/sample - loss: 0.1329 - accuracy: 0.9925 - val_loss: 0.1274 - val_accuracy: 0.9850\n",
      "Epoch 30/30\n",
      "800/800 [==============================] - 1s 1ms/sample - loss: 0.1207 - accuracy: 0.9925 - val_loss: 0.1277 - val_accuracy: 0.9850\n"
     ]
    },
    {
     "data": {
      "image/png": "[encoded data removed]",
      "text/plain": [
       "<Figure size 432x288 with 2 Axes>"
      ]
     },
     "metadata": {
      "needs_background": "light"
     },
     "output_type": "display_data"
    },
    {
     "name": "stdout",
     "output_type": "stream",
     "text": [
      "250/250 [==============================] - 0s 228us/sample - loss: 0.1181 - accuracy: 1.0000\n"
     ]
    }
   ],
   "source": [
    "# Генерация данных, обучение модели, тестирование и сохранение осученной модели в файл\n",
    "\n",
    "def main():\n",
    "    \n",
    "    # generate dataset\n",
    "    X, y = gen_feat(classes=5, samples_in_class=samples_in_class, dim=3)\n",
    "    \n",
    "    # generate train, validation and test sets\n",
    "    X_train, y_train, X_validation, y_validation, X_test, y_test = prepare_dataset(X, y)\n",
    "\n",
    "    print(f\"\"\"\n",
    "    X_train: {str(X_train.shape):>21}\n",
    "    X_validation: {str(X_validation.shape):>15}\n",
    "    X_test: {str(X_test.shape):>22}\\n\"\"\")\n",
    "    \n",
    "    # create network\n",
    "    input_shape = (X_train.shape[1], X_train.shape[2], 1) # (segments, coeffisients=13, 1)\n",
    "    model = build_model(input_shape, learning_rate=LEARNING_RATE)\n",
    "    \n",
    "    # train network\n",
    "    history = train(model, EPOCHS, BATCH_SIZE, PATIENCE, X_train, y_train, X_validation, y_validation)\n",
    "    \n",
    "    # plot accuracy/loss for training/validation set as a function of the epochs\n",
    "    plot_history(history)\n",
    "    \n",
    "    # evaluate network on test set\n",
    "    test_loss, test_acc = model.evaluate(X_test, y_test)\n",
    "    \n",
    "    # save model\n",
    "    model.save(output_trained_model)\n",
    "\n",
    "main()"
   ]
  },
  {
   "cell_type": "markdown",
   "metadata": {},
   "source": [
    "##### Применение CNN на реальных данных\n",
    "Пример решения задачи классификации с использованием tensorflow CNN. Данные сгенерированы вручную аналогичные данным голоса mfcc."
   ]
  },
  {
   "cell_type": "code",
   "execution_count": 75,
   "metadata": {},
   "outputs": [
    {
     "name": "stdout",
     "output_type": "stream",
     "text": [
      "\n",
      "    X_train:      (855, 44, 13, 1)\n",
      "    X_validation: (214, 44, 13, 1)\n",
      "    X_test:       (268, 44, 13, 1)\n",
      "\n",
      "Model: \"sequential_8\"\n",
      "_________________________________________________________________\n",
      "Layer (type)                 Output Shape              Param #   \n",
      "=================================================================\n",
      "conv2d_24 (Conv2D)           (None, 42, 11, 64)        640       \n",
      "_________________________________________________________________\n",
      "batch_normalization_24 (Batc (None, 42, 11, 64)        256       \n",
      "_________________________________________________________________\n",
      "max_pooling2d_24 (MaxPooling (None, 21, 6, 64)         0         \n",
      "_________________________________________________________________\n",
      "conv2d_25 (Conv2D)           (None, 19, 4, 32)         18464     \n",
      "_________________________________________________________________\n",
      "batch_normalization_25 (Batc (None, 19, 4, 32)         128       \n",
      "_________________________________________________________________\n",
      "max_pooling2d_25 (MaxPooling (None, 10, 2, 32)         0         \n",
      "_________________________________________________________________\n",
      "conv2d_26 (Conv2D)           (None, 9, 1, 32)          4128      \n",
      "_________________________________________________________________\n",
      "batch_normalization_26 (Batc (None, 9, 1, 32)          128       \n",
      "_________________________________________________________________\n",
      "max_pooling2d_26 (MaxPooling (None, 5, 1, 32)          0         \n",
      "_________________________________________________________________\n",
      "flatten_8 (Flatten)          (None, 160)               0         \n",
      "_________________________________________________________________\n",
      "dense_16 (Dense)             (None, 64)                10304     \n",
      "_________________________________________________________________\n",
      "dense_17 (Dense)             (None, 6)                 390       \n",
      "=================================================================\n",
      "Total params: 34,438\n",
      "Trainable params: 34,182\n",
      "Non-trainable params: 256\n",
      "_________________________________________________________________\n",
      "Train on 855 samples, validate on 214 samples\n",
      "Epoch 1/100\n",
      "855/855 [==============================] - 2s 2ms/sample - loss: 2.2302 - accuracy: 0.1813 - val_loss: 3.1286 - val_accuracy: 0.1589\n",
      "Epoch 2/100\n",
      "855/855 [==============================] - 1s 934us/sample - loss: 1.8862 - accuracy: 0.2725 - val_loss: 2.4204 - val_accuracy: 0.1729\n",
      "Epoch 3/100\n",
      "855/855 [==============================] - 1s 1ms/sample - loss: 1.7148 - accuracy: 0.3240 - val_loss: 2.0772 - val_accuracy: 0.2056\n",
      "Epoch 4/100\n",
      "855/855 [==============================] - 1s 936us/sample - loss: 1.5857 - accuracy: 0.3813 - val_loss: 1.9129 - val_accuracy: 0.2243\n",
      "Epoch 5/100\n",
      "855/855 [==============================] - 1s 968us/sample - loss: 1.4773 - accuracy: 0.4339 - val_loss: 1.8077 - val_accuracy: 0.2664\n",
      "Epoch 6/100\n",
      "855/855 [==============================] - 1s 987us/sample - loss: 1.3844 - accuracy: 0.5006 - val_loss: 1.7395 - val_accuracy: 0.3224\n",
      "Epoch 7/100\n",
      "855/855 [==============================] - 1s 968us/sample - loss: 1.3217 - accuracy: 0.5251 - val_loss: 1.6586 - val_accuracy: 0.3738\n",
      "Epoch 8/100\n",
      "855/855 [==============================] - 1s 1ms/sample - loss: 1.2444 - accuracy: 0.5626 - val_loss: 1.5977 - val_accuracy: 0.4019\n",
      "Epoch 9/100\n",
      "855/855 [==============================] - 1s 1ms/sample - loss: 1.1811 - accuracy: 0.6094 - val_loss: 1.5372 - val_accuracy: 0.4252\n",
      "Epoch 10/100\n",
      "855/855 [==============================] - 1s 947us/sample - loss: 1.1226 - accuracy: 0.6421 - val_loss: 1.4689 - val_accuracy: 0.4439\n",
      "Epoch 11/100\n",
      "855/855 [==============================] - 1s 997us/sample - loss: 1.0566 - accuracy: 0.6877 - val_loss: 1.4367 - val_accuracy: 0.4626\n",
      "Epoch 12/100\n",
      "855/855 [==============================] - 1s 939us/sample - loss: 1.0133 - accuracy: 0.7041 - val_loss: 1.3936 - val_accuracy: 0.4766\n",
      "Epoch 13/100\n",
      "855/855 [==============================] - 1s 966us/sample - loss: 0.9754 - accuracy: 0.7275 - val_loss: 1.3572 - val_accuracy: 0.5000\n",
      "Epoch 14/100\n",
      "855/855 [==============================] - 1s 948us/sample - loss: 0.9266 - accuracy: 0.7497 - val_loss: 1.3246 - val_accuracy: 0.5000\n",
      "Epoch 15/100\n",
      "855/855 [==============================] - 1s 979us/sample - loss: 0.8898 - accuracy: 0.7649 - val_loss: 1.3043 - val_accuracy: 0.5374\n",
      "Epoch 16/100\n",
      "855/855 [==============================] - 1s 967us/sample - loss: 0.8459 - accuracy: 0.7743 - val_loss: 1.2659 - val_accuracy: 0.5467\n",
      "Epoch 17/100\n",
      "855/855 [==============================] - 1s 982us/sample - loss: 0.8195 - accuracy: 0.7778 - val_loss: 1.2490 - val_accuracy: 0.5467\n",
      "Epoch 18/100\n",
      "855/855 [==============================] - 1s 1ms/sample - loss: 0.7904 - accuracy: 0.8117 - val_loss: 1.2282 - val_accuracy: 0.5748\n",
      "Epoch 19/100\n",
      "855/855 [==============================] - 1s 1ms/sample - loss: 0.7487 - accuracy: 0.8327 - val_loss: 1.2083 - val_accuracy: 0.5794\n",
      "Epoch 20/100\n",
      "855/855 [==============================] - 1s 955us/sample - loss: 0.7270 - accuracy: 0.8269 - val_loss: 1.1889 - val_accuracy: 0.5748\n",
      "Epoch 21/100\n",
      "855/855 [==============================] - 1s 1ms/sample - loss: 0.7070 - accuracy: 0.8386 - val_loss: 1.1687 - val_accuracy: 0.5841\n",
      "Epoch 22/100\n",
      "855/855 [==============================] - 1s 948us/sample - loss: 0.6734 - accuracy: 0.8515 - val_loss: 1.1443 - val_accuracy: 0.5981\n",
      "Epoch 23/100\n",
      "855/855 [==============================] - 1s 1ms/sample - loss: 0.6514 - accuracy: 0.8632 - val_loss: 1.1138 - val_accuracy: 0.5981\n",
      "Epoch 24/100\n",
      "855/855 [==============================] - 1s 1ms/sample - loss: 0.6353 - accuracy: 0.8702 - val_loss: 1.1051 - val_accuracy: 0.6121\n",
      "Epoch 25/100\n",
      "855/855 [==============================] - 1s 1ms/sample - loss: 0.6015 - accuracy: 0.8877 - val_loss: 1.0970 - val_accuracy: 0.6168\n",
      "Epoch 26/100\n",
      "855/855 [==============================] - 1s 1ms/sample - loss: 0.5863 - accuracy: 0.8819 - val_loss: 1.0949 - val_accuracy: 0.6168\n",
      "Epoch 27/100\n",
      "855/855 [==============================] - 1s 1ms/sample - loss: 0.5612 - accuracy: 0.8982 - val_loss: 1.0744 - val_accuracy: 0.6262\n",
      "Epoch 28/100\n",
      "855/855 [==============================] - 1s 1ms/sample - loss: 0.5420 - accuracy: 0.9006 - val_loss: 1.0539 - val_accuracy: 0.6308\n",
      "Epoch 29/100\n",
      "855/855 [==============================] - 1s 1ms/sample - loss: 0.5143 - accuracy: 0.9064 - val_loss: 1.0649 - val_accuracy: 0.6168\n",
      "Epoch 30/100\n",
      "855/855 [==============================] - 1s 1ms/sample - loss: 0.5106 - accuracy: 0.9064 - val_loss: 1.0510 - val_accuracy: 0.6308\n",
      "Epoch 31/100\n",
      "855/855 [==============================] - 1s 1ms/sample - loss: 0.4744 - accuracy: 0.9205 - val_loss: 1.0355 - val_accuracy: 0.6449\n",
      "Epoch 32/100\n",
      "855/855 [==============================] - 1s 1ms/sample - loss: 0.4626 - accuracy: 0.9251 - val_loss: 1.0064 - val_accuracy: 0.6495\n",
      "Epoch 33/100\n",
      "855/855 [==============================] - 1s 1ms/sample - loss: 0.4582 - accuracy: 0.9181 - val_loss: 1.0057 - val_accuracy: 0.6402\n",
      "Epoch 34/100\n",
      "855/855 [==============================] - 1s 933us/sample - loss: 0.4334 - accuracy: 0.9298 - val_loss: 1.0071 - val_accuracy: 0.6308\n",
      "Epoch 35/100\n",
      "855/855 [==============================] - 1s 922us/sample - loss: 0.4137 - accuracy: 0.9427 - val_loss: 0.9825 - val_accuracy: 0.6636\n",
      "Epoch 36/100\n",
      "855/855 [==============================] - 1s 905us/sample - loss: 0.4038 - accuracy: 0.9591 - val_loss: 0.9894 - val_accuracy: 0.6589\n",
      "Epoch 37/100\n",
      "855/855 [==============================] - 1s 1ms/sample - loss: 0.3941 - accuracy: 0.9450 - val_loss: 0.9822 - val_accuracy: 0.6495\n",
      "Epoch 38/100\n",
      "855/855 [==============================] - 1s 937us/sample - loss: 0.3808 - accuracy: 0.9485 - val_loss: 0.9923 - val_accuracy: 0.6542\n",
      "Epoch 39/100\n",
      "855/855 [==============================] - 1s 954us/sample - loss: 0.3621 - accuracy: 0.9520 - val_loss: 0.9634 - val_accuracy: 0.6729\n",
      "Epoch 40/100\n",
      "855/855 [==============================] - 1s 994us/sample - loss: 0.3514 - accuracy: 0.9649 - val_loss: 0.9386 - val_accuracy: 0.6869\n",
      "Epoch 41/100\n",
      "855/855 [==============================] - 1s 1ms/sample - loss: 0.3414 - accuracy: 0.9602 - val_loss: 0.9639 - val_accuracy: 0.6776\n",
      "Epoch 42/100\n"
     ]
    },
    {
     "name": "stdout",
     "output_type": "stream",
     "text": [
      "855/855 [==============================] - 1s 920us/sample - loss: 0.3243 - accuracy: 0.9696 - val_loss: 0.9661 - val_accuracy: 0.6682\n",
      "Epoch 43/100\n",
      "855/855 [==============================] - 1s 952us/sample - loss: 0.3151 - accuracy: 0.9708 - val_loss: 0.9574 - val_accuracy: 0.6776\n",
      "Epoch 44/100\n",
      "855/855 [==============================] - 1s 944us/sample - loss: 0.2991 - accuracy: 0.9766 - val_loss: 0.9525 - val_accuracy: 0.6542\n",
      "Epoch 45/100\n",
      "855/855 [==============================] - 1s 903us/sample - loss: 0.2947 - accuracy: 0.9708 - val_loss: 0.9526 - val_accuracy: 0.6682\n",
      "Epoch 46/100\n",
      "855/855 [==============================] - 1s 978us/sample - loss: 0.2805 - accuracy: 0.9778 - val_loss: 0.9346 - val_accuracy: 0.7009\n",
      "Epoch 47/100\n",
      "855/855 [==============================] - 1s 913us/sample - loss: 0.2656 - accuracy: 0.9813 - val_loss: 0.9255 - val_accuracy: 0.7009\n",
      "Epoch 48/100\n",
      "855/855 [==============================] - 1s 881us/sample - loss: 0.2689 - accuracy: 0.9789 - val_loss: 0.9462 - val_accuracy: 0.6869\n",
      "Epoch 49/100\n",
      "855/855 [==============================] - 1s 954us/sample - loss: 0.2559 - accuracy: 0.9848 - val_loss: 0.9334 - val_accuracy: 0.6916\n",
      "Epoch 50/100\n",
      "855/855 [==============================] - 1s 912us/sample - loss: 0.2479 - accuracy: 0.9860 - val_loss: 0.9162 - val_accuracy: 0.6822\n",
      "Epoch 51/100\n",
      "855/855 [==============================] - 1s 1ms/sample - loss: 0.2461 - accuracy: 0.9895 - val_loss: 0.9263 - val_accuracy: 0.6822\n",
      "Epoch 52/100\n",
      "855/855 [==============================] - 2s 2ms/sample - loss: 0.2439 - accuracy: 0.9836 - val_loss: 0.9114 - val_accuracy: 0.6916\n",
      "Epoch 53/100\n",
      "855/855 [==============================] - 2s 2ms/sample - loss: 0.2314 - accuracy: 0.9871 - val_loss: 0.9384 - val_accuracy: 0.6729\n",
      "Epoch 54/100\n",
      "855/855 [==============================] - 1s 2ms/sample - loss: 0.2229 - accuracy: 0.9848 - val_loss: 0.9147 - val_accuracy: 0.6963\n",
      "Epoch 55/100\n",
      "855/855 [==============================] - 1s 2ms/sample - loss: 0.2194 - accuracy: 0.9906 - val_loss: 0.9106 - val_accuracy: 0.6822\n",
      "Epoch 56/100\n",
      "855/855 [==============================] - 1s 2ms/sample - loss: 0.2111 - accuracy: 0.9930 - val_loss: 0.9394 - val_accuracy: 0.6822\n",
      "Epoch 57/100\n",
      "855/855 [==============================] - 1s 1ms/sample - loss: 0.2055 - accuracy: 0.9942 - val_loss: 0.9349 - val_accuracy: 0.6682\n",
      "Epoch 58/100\n",
      "855/855 [==============================] - 1s 1ms/sample - loss: 0.1988 - accuracy: 0.9965 - val_loss: 0.9074 - val_accuracy: 0.6916\n",
      "Epoch 59/100\n",
      "855/855 [==============================] - 1s 1ms/sample - loss: 0.1929 - accuracy: 0.9953 - val_loss: 0.9343 - val_accuracy: 0.6636\n",
      "Epoch 60/100\n",
      "855/855 [==============================] - 1s 1ms/sample - loss: 0.1846 - accuracy: 0.9965 - val_loss: 0.9171 - val_accuracy: 0.6822\n",
      "Epoch 61/100\n",
      "855/855 [==============================] - 1s 1ms/sample - loss: 0.1808 - accuracy: 0.9977 - val_loss: 0.9267 - val_accuracy: 0.6869\n",
      "Epoch 62/100\n",
      "855/855 [==============================] - 1s 1ms/sample - loss: 0.1810 - accuracy: 0.9953 - val_loss: 0.9048 - val_accuracy: 0.6916\n",
      "Epoch 63/100\n",
      "855/855 [==============================] - 1s 1ms/sample - loss: 0.1787 - accuracy: 0.9953 - val_loss: 0.9303 - val_accuracy: 0.6916\n",
      "Epoch 64/100\n",
      "855/855 [==============================] - 1s 1ms/sample - loss: 0.1754 - accuracy: 0.9965 - val_loss: 0.9097 - val_accuracy: 0.7056\n",
      "Epoch 65/100\n",
      "855/855 [==============================] - 1s 1ms/sample - loss: 0.1709 - accuracy: 0.9965 - val_loss: 0.9374 - val_accuracy: 0.6822\n",
      "Epoch 66/100\n",
      "855/855 [==============================] - 1s 1ms/sample - loss: 0.1697 - accuracy: 0.9977 - val_loss: 0.9092 - val_accuracy: 0.6822\n"
     ]
    },
    {
     "data": {
      "image/png": "[encoded data removed]",
      "text/plain": [
       "<Figure size 432x288 with 2 Axes>"
      ]
     },
     "metadata": {
      "needs_background": "light"
     },
     "output_type": "display_data"
    },
    {
     "name": "stdout",
     "output_type": "stream",
     "text": [
      "268/268 [==============================] - 0s 205us/sample - loss: 0.9113 - accuracy: 0.7127\n"
     ]
    }
   ],
   "source": [
    "# Загрузка данных из файла, обучение модели, тестирование и сохранение осученной модели в файл\n",
    "\n",
    "def main():\n",
    "    \n",
    "    # generate dataset\n",
    "    X, y, _ = load_data(output_voice_features_json)\n",
    "    \n",
    "    # generate train, validation and test sets\n",
    "    X_train, y_train, X_validation, y_validation, X_test, y_test = prepare_dataset(X, y)\n",
    "\n",
    "    print(f\"\"\"\n",
    "    X_train: {str(X_train.shape):>21}\n",
    "    X_validation: {str(X_validation.shape):>15}\n",
    "    X_test: {str(X_test.shape):>22}\\n\"\"\")\n",
    "    \n",
    "    # create network\n",
    "    input_shape = (X_train.shape[1], X_train.shape[2], 1) # (segments, coeffisients=13, 1)\n",
    "    model = build_model(input_shape, learning_rate=LEARNING_RATE)\n",
    "    \n",
    "    # train network\n",
    "    history = train(model, EPOCHS, BATCH_SIZE, PATIENCE, X_train, y_train, X_validation, y_validation)\n",
    "    \n",
    "    # plot accuracy/loss for training/validation set as a function of the epochs\n",
    "    plot_history(history)\n",
    "    \n",
    "    # evaluate network on test set\n",
    "    test_loss, test_acc = model.evaluate(X_test, y_test)\n",
    "    \n",
    "    # save model\n",
    "    model.save(output_trained_model)\n",
    "\n",
    "main()"
   ]
  },
  {
   "cell_type": "markdown",
   "metadata": {},
   "source": [
    "##### Проверки"
   ]
  },
  {
   "cell_type": "code",
   "execution_count": 77,
   "metadata": {
    "scrolled": false
   },
   "outputs": [
    {
     "name": "stdout",
     "output_type": "stream",
     "text": [
      "Model: \"sequential_8\"\n",
      "_________________________________________________________________\n",
      "Layer (type)                 Output Shape              Param #   \n",
      "=================================================================\n",
      "conv2d_24 (Conv2D)           (None, 42, 11, 64)        640       \n",
      "_________________________________________________________________\n",
      "batch_normalization_24 (Batc (None, 42, 11, 64)        256       \n",
      "_________________________________________________________________\n",
      "max_pooling2d_24 (MaxPooling (None, 21, 6, 64)         0         \n",
      "_________________________________________________________________\n",
      "conv2d_25 (Conv2D)           (None, 19, 4, 32)         18464     \n",
      "_________________________________________________________________\n",
      "batch_normalization_25 (Batc (None, 19, 4, 32)         128       \n",
      "_________________________________________________________________\n",
      "max_pooling2d_25 (MaxPooling (None, 10, 2, 32)         0         \n",
      "_________________________________________________________________\n",
      "conv2d_26 (Conv2D)           (None, 9, 1, 32)          4128      \n",
      "_________________________________________________________________\n",
      "batch_normalization_26 (Batc (None, 9, 1, 32)          128       \n",
      "_________________________________________________________________\n",
      "max_pooling2d_26 (MaxPooling (None, 5, 1, 32)          0         \n",
      "_________________________________________________________________\n",
      "flatten_8 (Flatten)          (None, 160)               0         \n",
      "_________________________________________________________________\n",
      "dense_16 (Dense)             (None, 64)                10304     \n",
      "_________________________________________________________________\n",
      "dense_17 (Dense)             (None, 6)                 390       \n",
      "=================================================================\n",
      "Total params: 34,438\n",
      "Trainable params: 34,182\n",
      "Non-trainable params: 256\n",
      "_________________________________________________________________\n",
      "800/800 [==============================] - 0s 312us/sample - loss: 2.9886 - accuracy: 0.0088\n",
      "\n",
      "Test loss: 2.989\n",
      "Test accuracy: 0.88%\n"
     ]
    }
   ],
   "source": [
    "# Загрузка модели и проверка на повторно сгенерированных данных (для сгенерированных вручную данных)\n",
    "\n",
    "# Поготовить новые данные\n",
    "X, y = gen_feat(classes=5, samples_in_class=samples_in_class, dim=3)\n",
    "X_train, y_train, X_validation, y_validation, X_test, y_test = prepare_dataset(X, y)\n",
    "\n",
    "# Загрузить модель из файла\n",
    "model = tf.keras.models.load_model(output_trained_model)\n",
    "model.summary()\n",
    "\n",
    "# Протестировать модель на новых данных\n",
    "test_loss, test_acc = model.evaluate(X_train, y_train)\n",
    "print(f\"\\nTest loss: {round(test_loss, 3)}\\nTest accuracy: {round(100*test_acc,2)}%\")"
   ]
  },
  {
   "cell_type": "code",
   "execution_count": 78,
   "metadata": {},
   "outputs": [
    {
     "name": "stdout",
     "output_type": "stream",
     "text": [
      "Predicted: 5, Fact: 0\n"
     ]
    }
   ],
   "source": [
    "# Протестировать модель на отдельных данных\n",
    "\n",
    "index = 101\n",
    "\n",
    "result = model.predict(X_train)\n",
    "\n",
    "predicted_result_ind = np.argmax(result[index])\n",
    "result_ind = y_train[index]\n",
    "\n",
    "print(f'Predicted: {predicted_result_ind}, Fact: {result_ind}')"
   ]
  },
  {
   "cell_type": "markdown",
   "metadata": {},
   "source": [
    "##### Предсказания с микрофона"
   ]
  },
  {
   "cell_type": "code",
   "execution_count": 130,
   "metadata": {},
   "outputs": [
    {
     "data": {
      "text/plain": [
       "['down', 'off', 'on', 'others', 'stop', 'up']"
      ]
     },
     "execution_count": 130,
     "metadata": {},
     "output_type": "execute_result"
    }
   ],
   "source": [
    "# Предсказание с микрофона (для осученной на реальных данных модели)\n",
    "\n",
    "samplerate = 22050 # (int) – The desired sampling rate in Hz\n",
    "sec = 1\n",
    "\n",
    "numframes = int(samplerate * sec) # (int) – The number of frames to record. Такой же как samplerate, чтобы записать секунду.\n",
    "default_mic = sc.default_microphone()\n",
    "\n",
    "# Загрузить модель из файла\n",
    "model = tf.keras.models.load_model(output_trained_model)\n",
    "\n",
    "# Загрузить маппинг\n",
    "_, _, mapping = load_data(output_voice_features_json)\n",
    "mapping"
   ]
  },
  {
   "cell_type": "code",
   "execution_count": 190,
   "metadata": {},
   "outputs": [
    {
     "name": "stdout",
     "output_type": "stream",
     "text": [
      "Microphone in use: <Microphone Микрофон гарнитуры (Plantronics C320-M) (2 channels)>\n",
      "Predicted: on\n"
     ]
    }
   ],
   "source": [
    "print(f'Microphone in use: {default_mic}')\n",
    "signal = default_mic.record(samplerate = samplerate, numframes = numframes, channels = 1).ravel()\n",
    "\n",
    "if len(signal) >= sample_length:\n",
    "    # ensure consistency of the length of the signal\n",
    "    signal = signal[:sample_length]\n",
    "    # extract MFCCs\n",
    "    mfcc = librosa.feature.mfcc(signal, sample_rate, n_mfcc=13, n_fft=2048, hop_length=512)\n",
    "    # store data for analysed track\n",
    "    mfcc = mfcc.T[np.newaxis,..., np.newaxis]\n",
    "    \n",
    "result = model.predict(mfcc)\n",
    "predicted_result_ind = np.argmax(result)\n",
    "\n",
    "print(f'Predicted: {mapping[predicted_result_ind]}')"
   ]
  },
  {
   "cell_type": "markdown",
   "metadata": {},
   "source": [
    "### Prepare voice samples folder"
   ]
  },
  {
   "cell_type": "code",
   "execution_count": null,
   "metadata": {},
   "outputs": [],
   "source": [
    "# Prepare voice samples folder\n",
    "\n",
    "downloads = r\".\\VoiceSamples\"\n",
    "input_voice_samples_folders = join(downloads, 'speech_commands_v0.01')\n",
    "new_input_voice_samples_folder = 'OnOffUpDownStopOthers250Samples'\n",
    "num_samples_to_copy = 250\n",
    "num_samples_to_copy_others = 10\n",
    "\n",
    "# Read all folders\n",
    "folders = [folder for folder in os.listdir(input_voice_samples_folders) if isdir(join(input_voice_samples_folders, folder))]\n",
    "\n",
    "# Select folders for classification and others\n",
    "class_folders = ['on', 'off', 'up', 'down', 'stop']\n",
    "other_folders = [folder for folder in folders if not folder in class_folders and not folder.startswith('_')]\n",
    "\n",
    "# Create new folders for classification + others\n",
    "os.makedirs(join(downloads, new_input_voice_samples_folder), exist_ok=True, mode=777)\n",
    "os.makedirs(join(downloads, new_input_voice_samples_folder, 'others'), exist_ok=True, mode=777)\n",
    "for class_folder in class_folders:\n",
    "    os.makedirs(join(downloads, new_input_voice_samples_folder, class_folder), exist_ok=True, mode=777)\n",
    "\n",
    "# Copy files to folders for classification\n",
    "for class_folder in tqdm(class_folders):\n",
    "    files = [file for file in os.listdir(join(input_voice_samples_folders, class_folder))\n",
    "             if isfile(join(input_voice_samples_folders, class_folder, file))]\n",
    "    for file in files[:num_samples_to_copy]:\n",
    "        shutil.copy(join(input_voice_samples_folders, class_folder, file),\n",
    "                    join(downloads, new_input_voice_samples_folder, class_folder))\n",
    "\n",
    "# Copy files to others for classification\n",
    "for class_folder in tqdm(other_folders):\n",
    "    files = [file for file in os.listdir(join(input_voice_samples_folders, class_folder))\n",
    "             if isfile(join(input_voice_samples_folders, class_folder, file))]\n",
    "    for file in files[:num_samples_to_copy_others]:\n",
    "        shutil.copy(join(input_voice_samples_folders, class_folder, file),\n",
    "                    join(downloads, new_input_voice_samples_folder, 'others', f'{class_folder}_{file}'))"
   ]
  },
  {
   "cell_type": "markdown",
   "metadata": {},
   "source": [
    "### Материал\n",
    "- Seth Adams, Deep Learning for Audio Classification, https://www.youtube.com/playlist?list=PLhA3b2k8R3t2Ng1WW_7MiXeh1pfQJQi_P\n",
    "- Mel Frequency Cepstral Coefficient (MFCC) tutorial, http://www.practicalcryptography.com/miscellaneous/machine-learning/guide-mel-frequency-cepstral-coefficients-mfccs/\n",
    "- sentdex, Neural Networks from Scratch in Python, https://www.youtube.com/playlist?list=PLQVvvaa0QuDcjD5BAw2DxE6OF2tius3V3\n",
    "- The Sound of AI, Deep Learning (Audio) Application: From Design to Deployment, https://www.youtube.com/playlist?list=PL-wATfeyAMNpCRQkKgtOZU_ykXc63oyzp\n",
    "\n",
    "##### Датасеты с наборами слов\n",
    "1. Google AI Blog, Speech Commands Dataset<br>\n",
    "\"The dataset has 65,000 one-second long utterances of 30 short words, by thousands of different people, contributed by members of the public through the AIY website.\"<br>\n",
    "https://ai.googleblog.com/2017/08/launching-speech-commands-dataset.html"
   ]
  },
  {
   "cell_type": "markdown",
   "metadata": {},
   "source": [
    "### Developments"
   ]
  },
  {
   "cell_type": "code",
   "execution_count": null,
   "metadata": {},
   "outputs": [],
   "source": []
  }
 ],
 "metadata": {
  "kernelspec": {
   "display_name": "Python 3",
   "language": "python",
   "name": "python3"
  },
  "language_info": {
   "codemirror_mode": {
    "name": "ipython",
    "version": 3
   },
   "file_extension": ".py",
   "mimetype": "text/x-python",
   "name": "python",
   "nbconvert_exporter": "python",
   "pygments_lexer": "ipython3",
   "version": "3.7.4"
  }
 },
 "nbformat": 4,
 "nbformat_minor": 4
}
