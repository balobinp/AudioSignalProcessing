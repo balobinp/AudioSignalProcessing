{
 "cells": [
  {
   "cell_type": "markdown",
   "metadata": {},
   "source": [
    "### AudioSignalProcessing"
   ]
  },
  {
   "cell_type": "code",
   "execution_count": 30,
   "metadata": {},
   "outputs": [],
   "source": [
    "from os.path import join, isdir\n",
    "import os\n",
    "from tqdm.auto import tqdm\n",
    "import librosa\n",
    "import json\n",
    "import matplotlib.pyplot as plt\n",
    "import numpy as np\n",
    "from scipy.io import wavfile"
   ]
  },
  {
   "cell_type": "code",
   "execution_count": 4,
   "metadata": {},
   "outputs": [
    {
     "name": "stdout",
     "output_type": "stream",
     "text": [
      "\n",
      "Processing: 'five'\n"
     ]
    },
    {
     "data": {
      "application/vnd.jupyter.widget-view+json": {
       "model_id": "804f9c67e43244fb9f8e2fbc0a486720",
       "version_major": 2,
       "version_minor": 0
      },
      "text/plain": [
       "HBox(children=(FloatProgress(value=0.0, max=10.0), HTML(value='')))"
      ]
     },
     "metadata": {},
     "output_type": "display_data"
    },
    {
     "name": "stdout",
     "output_type": "stream",
     "text": [
      "\n",
      "\n",
      "Processing: 'no'\n"
     ]
    },
    {
     "data": {
      "application/vnd.jupyter.widget-view+json": {
       "model_id": "6cc91433e6b54038a0efcd51c8dfbf7f",
       "version_major": 2,
       "version_minor": 0
      },
      "text/plain": [
       "HBox(children=(FloatProgress(value=0.0, max=10.0), HTML(value='')))"
      ]
     },
     "metadata": {},
     "output_type": "display_data"
    },
    {
     "name": "stdout",
     "output_type": "stream",
     "text": [
      "\n",
      "\n",
      "Processing: 'yes'\n"
     ]
    },
    {
     "data": {
      "application/vnd.jupyter.widget-view+json": {
       "model_id": "234a3505122942c2bd3dd21ca0d925da",
       "version_major": 2,
       "version_minor": 0
      },
      "text/plain": [
       "HBox(children=(FloatProgress(value=0.0, max=10.0), HTML(value='')))"
      ]
     },
     "metadata": {},
     "output_type": "display_data"
    },
    {
     "name": "stdout",
     "output_type": "stream",
     "text": [
      "\n",
      "\n",
      "Completed\n"
     ]
    }
   ],
   "source": [
    "# Подготовка данных\n",
    "# Используются записи ключевых слов длительностью 1 секунда\n",
    "\n",
    "downloads = r\".\\VoiceSamples\\YesNoFive10Samples\"\n",
    "input_voice_samples_folders = downloads\n",
    "output_voice_features_json = join(downloads, \"data.json\")\n",
    "output_trained_model = join(downloads, \"model.h5\")\n",
    "\n",
    "SAMPLES_TO_CONSIDER = 22050 # 1 sec. of audio\n",
    "\n",
    "def preprocess_dataset(dataset_path, json_path, num_mfcc=13, n_fft=2048, hop_length=512):\n",
    "    \"\"\"Extracts MFCCs from music dataset and saves them into a json file.\n",
    "    :param dataset_path (str): Path to dataset\n",
    "    :param json_path (str): Path to json file used to save MFCCs\n",
    "    :param num_mfcc (int): Number of coefficients to extract\n",
    "    :param n_fft (int): Interval we consider to apply FFT. Measured in # of samples\n",
    "    :param hop_length (int): Sliding window for FFT. Measured in # of samples\n",
    "    :return:\n",
    "    \"\"\"\n",
    "    # dictionary where we'll store mapping, labels, MFCCs and filenames\n",
    "    data = {\"mapping\": [], \"labels\": [], \"MFCCs\": [], \"files\": []}\n",
    "    # loop through all sub-dirs\n",
    "    for i, (dirpath, dirnames, filenames) in enumerate(os.walk(dataset_path)):\n",
    "        # ensure we're at sub-folder level\n",
    "        if dirpath is not dataset_path:\n",
    "            # save label (i.e., sub-folder name) in the mapping\n",
    "            label = dirpath.split(\"\\\\\")[-1]\n",
    "            data[\"mapping\"].append(label)\n",
    "            print(\"\\nProcessing: '{}'\".format(label))\n",
    "            # process all audio files in sub-dir and store MFCCs\n",
    "#             for file in filenames:\n",
    "            for file in tqdm(filenames):\n",
    "                file_path = join(dirpath, file)\n",
    "                # load audio file and slice it to ensure length consistency among different files\n",
    "                signal, sample_rate = librosa.load(file_path)\n",
    "                # drop audio files with less than pre-decided number of samples\n",
    "                if len(signal) >= SAMPLES_TO_CONSIDER:\n",
    "                    # ensure consistency of the length of the signal\n",
    "                    signal = signal[:SAMPLES_TO_CONSIDER]\n",
    "                    # extract MFCCs\n",
    "                    MFCCs = librosa.feature.mfcc(signal, sample_rate, n_mfcc=num_mfcc, n_fft=n_fft, hop_length=hop_length)\n",
    "                    # store data for analysed track\n",
    "                    data[\"MFCCs\"].append(MFCCs.T.tolist())\n",
    "                    data[\"labels\"].append(i-1)\n",
    "                    data[\"files\"].append(file_path)\n",
    "    # save data in json file\n",
    "    with open(json_path, \"w\") as fp:\n",
    "        json.dump(data, fp, indent=4)\n",
    "preprocess_dataset(input_voice_samples_folders, output_voice_features_json)\n",
    "print('\\nCompleted')"
   ]
  },
  {
   "cell_type": "code",
   "execution_count": 28,
   "metadata": {},
   "outputs": [
    {
     "data": {
      "image/png": "[encoded data removed]",
      "text/plain": [
       "<Figure size 2160x360 with 1 Axes>"
      ]
     },
     "metadata": {
      "needs_background": "light"
     },
     "output_type": "display_data"
    }
   ],
   "source": [
    "# Проверить кол-во аудиосэмплов каждой фразы\n",
    "\n",
    "# Folder names with audio samples\n",
    "labels = [folder for folder in os.listdir(input_voice_samples_folders) \n",
    "          if isdir(join(input_voice_samples_folders, folder))]\n",
    "\n",
    "# Find count of each label and plot bar graph\n",
    "no_of_recordings=[]\n",
    "for label in labels:\n",
    "    waves = [file for file in os.listdir(join(input_voice_samples_folders, label)) if file.endswith('.wav')]\n",
    "    no_of_recordings.append(len(waves))\n",
    "    \n",
    "# Plot\n",
    "plt.figure(figsize=(30,5))\n",
    "index = np.arange(len(labels))\n",
    "plt.bar(index, no_of_recordings)\n",
    "plt.xlabel('Folders', fontsize=12)\n",
    "plt.ylabel('No of recordings', fontsize=12)\n",
    "plt.xticks(index, labels, fontsize=15, rotation=60)\n",
    "plt.title('No. of recordings in the folders')\n",
    "plt.show()"
   ]
  },
  {
   "cell_type": "code",
   "execution_count": 33,
   "metadata": {},
   "outputs": [
    {
     "data": {
      "image/png": "[encoded data removed]",
      "text/plain": [
       "<Figure size 432x288 with 1 Axes>"
      ]
     },
     "metadata": {
      "needs_background": "light"
     },
     "output_type": "display_data"
    }
   ],
   "source": [
    "# Проверить длительность сэмплов (в секундах)\n",
    "\n",
    "duration_of_recordings=[]\n",
    "\n",
    "for label in labels:\n",
    "    waves = [file for file in os.listdir(join(input_voice_samples_folders, label)) if file.endswith('.wav')]\n",
    "    for wav in waves:\n",
    "        sample_rate, samples = wavfile.read(join(input_voice_samples_folders, label, wav))\n",
    "        duration_of_recordings.append(float(len(samples)/sample_rate))  \n",
    "plt.hist(np.array(duration_of_recordings))\n",
    "\n",
    "plt.show()"
   ]
  },
  {
   "cell_type": "code",
   "execution_count": null,
   "metadata": {},
   "outputs": [],
   "source": []
  }
 ],
 "metadata": {
  "kernelspec": {
   "display_name": "Python 3",
   "language": "python",
   "name": "python3"
  },
  "language_info": {
   "codemirror_mode": {
    "name": "ipython",
    "version": 3
   },
   "file_extension": ".py",
   "mimetype": "text/x-python",
   "name": "python",
   "nbconvert_exporter": "python",
   "pygments_lexer": "ipython3",
   "version": "3.7.4"
  }
 },
 "nbformat": 4,
 "nbformat_minor": 4
}
